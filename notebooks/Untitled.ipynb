{
 "cells": [
  {
   "cell_type": "code",
   "execution_count": 2,
   "metadata": {},
   "outputs": [
    {
     "data": {
      "text/plain": [
       "0.8944271909999159"
      ]
     },
     "execution_count": 2,
     "metadata": {},
     "output_type": "execute_result"
    }
   ],
   "source": [
    "1 / (0.5) / (2**2 + 1)**0.5"
   ]
  },
  {
   "cell_type": "code",
   "execution_count": 4,
   "metadata": {},
   "outputs": [
    {
     "data": {
      "text/plain": [
       "0.46428571428571425"
      ]
     },
     "execution_count": 4,
     "metadata": {},
     "output_type": "execute_result"
    }
   ],
   "source": [
    "(5/8)*(4/7) + (3/8)*(2/7)"
   ]
  },
  {
   "cell_type": "code",
   "execution_count": 11,
   "metadata": {},
   "outputs": [
    {
     "name": "stdout",
     "output_type": "stream",
     "text": [
      "\n",
      "1.23\n"
     ]
    }
   ],
   "source": [
    "import re\n",
    "import sys\n",
    "\n",
    "EVEN_NUMBERS_REGEX = re.compile(r'(\\d+\\.\\d+)')\n",
    "\n",
    "arr = [\n",
    "    \"2 3 5\",\n",
    "    \"1.23 5 5\"\n",
    "]\n",
    "\n",
    "for line in arr:\n",
    "    all_even_numbers = EVEN_NUMBERS_REGEX.findall(line.strip())\n",
    "    print(' '.join(all_even_numbers))"
   ]
  },
  {
   "cell_type": "code",
   "execution_count": 12,
   "metadata": {},
   "outputs": [],
   "source": [
    "import numpy as np"
   ]
  },
  {
   "cell_type": "code",
   "execution_count": 20,
   "metadata": {},
   "outputs": [
    {
     "data": {
      "text/plain": [
       "4.615220521841592"
      ]
     },
     "execution_count": 20,
     "metadata": {},
     "output_type": "execute_result"
    }
   ],
   "source": [
    "a = [0.99, 0.01]\n",
    "-np.log(a[0]) - np.log(a[1])"
   ]
  },
  {
   "cell_type": "code",
   "execution_count": 23,
   "metadata": {},
   "outputs": [
    {
     "ename": "SyntaxError",
     "evalue": "invalid syntax (<string>, line 1)",
     "output_type": "error",
     "traceback": [
      "\u001b[0;31mValueError\u001b[0m\u001b[0;31m:\u001b[0m Error from parse_expr with transformed code: \"<Symbol ('your' )Symbol ('solution' )Symbol ('here' )>\"\n",
      "\nThe above exception was the direct cause of the following exception:\n",
      "Traceback \u001b[0;36m(most recent call last)\u001b[0m:\n",
      "  File \u001b[1;32m\"/usr/local/lib/python3.7/dist-packages/IPython/core/interactiveshell.py\"\u001b[0m, line \u001b[1;32m3437\u001b[0m, in \u001b[1;35mrun_code\u001b[0m\n    exec(code_obj, self.user_global_ns, self.user_ns)\n",
      "  File \u001b[1;32m\"<ipython-input-23-92f2be975db2>\"\u001b[0m, line \u001b[1;32m4\u001b[0m, in \u001b[1;35m<module>\u001b[0m\n    sample_expr = sympy.parsing.sympy_parser.parse_expr(sample_expr_str)\n",
      "  File \u001b[1;32m\"/home/voropaev_ri/.local/lib/python3.7/site-packages/sympy/parsing/sympy_parser.py\"\u001b[0m, line \u001b[1;32m1026\u001b[0m, in \u001b[1;35mparse_expr\u001b[0m\n    raise e from ValueError(f\"Error from parse_expr with transformed code: {code!r}\")\n",
      "  File \u001b[1;32m\"/home/voropaev_ri/.local/lib/python3.7/site-packages/sympy/parsing/sympy_parser.py\"\u001b[0m, line \u001b[1;32m1017\u001b[0m, in \u001b[1;35mparse_expr\u001b[0m\n    rv = eval_expr(code, local_dict, global_dict)\n",
      "\u001b[0;36m  File \u001b[0;32m\"/home/voropaev_ri/.local/lib/python3.7/site-packages/sympy/parsing/sympy_parser.py\"\u001b[0;36m, line \u001b[0;32m912\u001b[0;36m, in \u001b[0;35meval_expr\u001b[0;36m\u001b[0m\n\u001b[0;31m    code, global_dict, local_dict)  # take local objects in preference\u001b[0m\n",
      "\u001b[0;36m  File \u001b[0;32m\"<string>\"\u001b[0;36m, line \u001b[0;32m1\u001b[0m\n\u001b[0;31m    <Symbol ('your' )Symbol ('solution' )Symbol ('here' )>\u001b[0m\n\u001b[0m    ^\u001b[0m\n\u001b[0;31mSyntaxError\u001b[0m\u001b[0;31m:\u001b[0m invalid syntax\n"
     ]
    }
   ],
   "source": [
    "import sympy.parsing.sympy_parser\n",
    "\n",
    "sample_expr_str = '<your solution here>'\n",
    "sample_expr = sympy.parsing.sympy_parser.parse_expr(sample_expr_str)\n",
    "sample_value = sample_expr.evalf(subs=dict(x=0.5, y=1, w=4, b=1))\n",
    "print(sample_value)"
   ]
  },
  {
   "cell_type": "code",
   "execution_count": 22,
   "metadata": {},
   "outputs": [
    {
     "name": "stdout",
     "output_type": "stream",
     "text": [
      "WARNING: pip is being invoked by an old script wrapper. This will fail in a future version of pip.\n",
      "Please see https://github.com/pypa/pip/issues/5599 for advice on fixing the underlying issue.\n",
      "To avoid this problem you can invoke Python with '-m pip' instead of running pip directly.\n",
      "Defaulting to user installation because normal site-packages is not writeable\n",
      "Collecting sympy\n",
      "  Downloading sympy-1.9-py3-none-any.whl (6.2 MB)\n",
      "\u001b[K     |████████████████████████████████| 6.2 MB 1.3 MB/s eta 0:00:01\n",
      "\u001b[?25hCollecting mpmath>=0.19\n",
      "  Downloading mpmath-1.2.1-py3-none-any.whl (532 kB)\n",
      "\u001b[K     |████████████████████████████████| 532 kB 63.3 MB/s eta 0:00:01\n",
      "\u001b[?25hInstalling collected packages: mpmath, sympy\n",
      "Successfully installed mpmath-1.2.1 sympy-1.9\n",
      "\u001b[33mWARNING: You are using pip version 20.1; however, version 22.0.3 is available.\n",
      "You should consider upgrading via the '/usr/bin/python3 -m pip install --upgrade pip' command.\u001b[0m\n"
     ]
    }
   ],
   "source": [
    "! pip3 install sympy"
   ]
  },
  {
   "cell_type": "code",
   "execution_count": null,
   "metadata": {},
   "outputs": [],
   "source": []
  }
 ],
 "metadata": {
  "kernelspec": {
   "display_name": "Python 3",
   "language": "python",
   "name": "python3"
  },
  "language_info": {
   "codemirror_mode": {
    "name": "ipython",
    "version": 3
   },
   "file_extension": ".py",
   "mimetype": "text/x-python",
   "name": "python",
   "nbconvert_exporter": "python",
   "pygments_lexer": "ipython3",
   "version": "3.7.3"
  }
 },
 "nbformat": 4,
 "nbformat_minor": 2
}
